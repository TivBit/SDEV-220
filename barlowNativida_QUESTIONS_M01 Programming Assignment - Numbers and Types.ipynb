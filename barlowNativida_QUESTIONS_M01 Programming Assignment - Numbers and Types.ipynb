{
 "cells": [
  {
   "cell_type": "markdown",
   "id": "cd88a78b",
   "metadata": {},
   "source": [
    "3.1:  How many seconds are in an hour?\n",
    "            Answer: There are 3600 seconds in an hour.  See code below..."
   ]
  },
  {
   "cell_type": "code",
   "execution_count": 5,
   "id": "93c4b118",
   "metadata": {},
   "outputs": [
    {
     "name": "stdout",
     "output_type": "stream",
     "text": [
      "There are 3600 seconds in an hour.\n"
     ]
    }
   ],
   "source": [
    "seconds_per_minute = 60\n",
    "seconds_per_hour = seconds_per_minute * 60\n",
    "print(f\"There are {seconds_per_hour} seconds in an hour.\")"
   ]
  },
  {
   "cell_type": "markdown",
   "id": "3667e397",
   "metadata": {},
   "source": [
    "3.3:  How many seconds are in a day?  \n",
    "            Answer:  86,400 seconds in a day.  See code below..."
   ]
  },
  {
   "cell_type": "code",
   "execution_count": 7,
   "id": "d961a325",
   "metadata": {},
   "outputs": [
    {
     "name": "stdout",
     "output_type": "stream",
     "text": [
      "There are 86400 seconds in an day.\n"
     ]
    }
   ],
   "source": [
    "seconds_per_hour = 3600\n",
    "seconds_per_day = seconds_per_hour * 24\n",
    "print(f\"There are {seconds_per_day} seconds in an day.\")"
   ]
  },
  {
   "cell_type": "code",
   "execution_count": 10,
   "id": "4be32ca9",
   "metadata": {},
   "outputs": [
    {
     "name": "stdout",
     "output_type": "stream",
     "text": [
      "There are 24.0 hours in a day.\n"
     ]
    }
   ],
   "source": [
    "seconds_per_day = 86400\n",
    "seconds_per_hour = 3600\n",
    "print(f\"There are {seconds_per_day / seconds_per_hour} hours in a day.\")"
   ]
  },
  {
   "cell_type": "markdown",
   "id": "95c50e08",
   "metadata": {},
   "source": [
    "Divide seconds_per_day by seconds_per_hour, using integer (//) division. Did this number agree with the floating-point value from the previous question, aside from the final .0?\n",
    "        Answer:  Yes. The only difference is that there is no decimal.  Instead of it being floating number, it is an integer.                  See code below..."
   ]
  },
  {
   "cell_type": "code",
   "execution_count": 12,
   "id": "92fe57f2",
   "metadata": {
    "scrolled": true
   },
   "outputs": [
    {
     "name": "stdout",
     "output_type": "stream",
     "text": [
      "There are 24 hours in a day.\n",
      "Done\n"
     ]
    }
   ],
   "source": [
    "seconds_per_day = 86400\n",
    "seconds_per_hour = 3600\n",
    "print(f\"There are {seconds_per_day // seconds_per_hour} hours in a day.\")\n",
    "print(f\"Done\")"
   ]
  }
 ],
 "metadata": {
  "kernelspec": {
   "display_name": "Python 3 (ipykernel)",
   "language": "python",
   "name": "python3"
  },
  "language_info": {
   "codemirror_mode": {
    "name": "ipython",
    "version": 3
   },
   "file_extension": ".py",
   "mimetype": "text/x-python",
   "name": "python",
   "nbconvert_exporter": "python",
   "pygments_lexer": "ipython3",
   "version": "3.11.1"
  }
 },
 "nbformat": 4,
 "nbformat_minor": 5
}
